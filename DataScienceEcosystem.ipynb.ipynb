{
    "cells": [
        {
            "cell_type": "markdown",
            "metadata": {
                "collapsed": true
            },
            "source": "# Data Science Tools and Ecosystem"
        },
        {
            "cell_type": "markdown",
            "metadata": {},
            "source": "In this notebook, Data Science Tools and Ecosystem are summarized."
        },
        {
            "cell_type": "markdown",
            "metadata": {},
            "source": "__Objectives:__\n\n* To list popular languages for Data Science\n* To list popular libraries used by Data Scientist\n* To run basic arithmetic operations"
        },
        {
            "cell_type": "markdown",
            "metadata": {},
            "source": "Some of the popular languages that Data Scientists use are:"
        },
        {
            "cell_type": "markdown",
            "metadata": {},
            "source": "1. Python \n2. R \n3. SQL \n4. Julia"
        },
        {
            "cell_type": "markdown",
            "metadata": {},
            "source": "Some of the commonly used libraries used by Data Scientists include: \n\n1. TensorFlow \n2. SciPy \n3. Pandas \n4. Matplotlib"
        },
        {
            "cell_type": "markdown",
            "metadata": {},
            "source": "|Data Science Tools|\n|----------------|\n|Apache Spark|\n|TensorFlow|\n|RapidMiner|"
        },
        {
            "cell_type": "markdown",
            "metadata": {},
            "source": "### Below are a few examples of evaluating arithmetic expressions in Python"
        },
        {
            "cell_type": "code",
            "execution_count": 2,
            "metadata": {},
            "outputs": [
                {
                    "data": {
                        "text/plain": "17"
                    },
                    "execution_count": 2,
                    "metadata": {},
                    "output_type": "execute_result"
                }
            ],
            "source": "#This a simple arithmetic expression to mutiply then add integers\n(3*4)+5"
        },
        {
            "cell_type": "code",
            "execution_count": 5,
            "metadata": {},
            "outputs": [
                {
                    "name": "stdout",
                    "output_type": "stream",
                    "text": "03:20\n"
                }
            ],
            "source": "#This will convert 200 minutes to hours by diving by 60\nminutes = 200\nprint(\"%02d:%02d\" % (divmod(minutes, 60)))"
        },
        {
            "cell_type": "markdown",
            "metadata": {},
            "source": "## Author\nRakul Pravin Ranipet Kishorr Kumar"
        },
        {
            "cell_type": "code",
            "execution_count": null,
            "metadata": {},
            "outputs": [],
            "source": ""
        }
    ],
    "metadata": {
        "kernelspec": {
            "display_name": "Python 3.10",
            "language": "python",
            "name": "python3"
        },
        "language_info": {
            "codemirror_mode": {
                "name": "ipython",
                "version": 3
            },
            "file_extension": ".py",
            "mimetype": "text/x-python",
            "name": "python",
            "nbconvert_exporter": "python",
            "pygments_lexer": "ipython3",
            "version": "3.10.9"
        }
    },
    "nbformat": 4,
    "nbformat_minor": 1
}